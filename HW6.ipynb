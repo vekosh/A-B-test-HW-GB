{
 "cells": [
  {
   "cell_type": "markdown",
   "id": "5a06a1f0",
   "metadata": {},
   "source": [
    "### Задача 1\n",
    "Продакт на главной mail.ru решил протестировать в рекомендательной ленте контента вместо карточек со статьями видеоплеер с короткими видео. Нынешний таймспент на юзера в день в среднем равен 25 минут, а стандартная ошибка (SD) равна 156. Мы предполагаем, что в новой версии таймспент на юзера в день изменится на 10%. Средний трафик 20000 человек в день. Посчитайте сколько дней необходимо держать эксперимент при alpha = 5% и beta = 20% ."
   ]
  },
  {
   "cell_type": "code",
   "execution_count": 1,
   "id": "d8363f40",
   "metadata": {},
   "outputs": [],
   "source": [
    "# импорт необходимых библиотек\n",
    "from statsmodels.stats.power import tt_ind_solve_power, zt_ind_solve_power\n",
    "from statsmodels.stats.proportion import proportion_effectsize\n",
    "from statsmodels.stats.meta_analysis import effectsize_smd\n",
    "from typing import Union\n",
    "import plotly.graph_objects as go\n",
    "from scipy import stats\n",
    "from math import asin\n",
    "import numpy as np\n"
   ]
  },
  {
   "cell_type": "markdown",
   "id": "5a2d5c8d",
   "metadata": {},
   "source": [
    "Показатель time speeak количественный используем TT тест"
   ]
  },
  {
   "cell_type": "code",
   "execution_count": 2,
   "id": "ec5c1c3b",
   "metadata": {},
   "outputs": [],
   "source": [
    "def calc_proportion_es(prob1: float, prob2: float):\n",
    "    \n",
    "    return abs(proportion_effectsize(prob1, prob2))\n",
    "\n",
    "def calc_proportion_es_alt(conv1: float, conv2:float, prob1:float, prob2: float):\n",
    "    \n",
    "    return 2  * asin(np.sqrt(conv1/nobs1)) - 2 * asin(np.sqrt(conv2/nobs2))\n",
    "\n",
    "def calc_continuous_es(mean_control: Union[float, int],\n",
    "                       std_control: Union[float, int],\n",
    "                       mean_test: Union[float, int],\n",
    "                       std_test: Union[float, int]):\n",
    "    \n",
    "    return abs(effectsize_smd(mean_control,\n",
    "                              std_control,\n",
    "                              1e4,\n",
    "                              mean_test,\n",
    "                              std_test,\n",
    "                              1e4)[0])\n",
    "\n",
    "def calc_continuous_es_alt(mean_control: Union[float, int],\n",
    "                           std_control: Union[float, int],\n",
    "                           mean_test: Union[float, int],\n",
    "                           std_test: Union[float, int]):\n",
    "    \n",
    "    effect_size = (mean_test - mean_control) / ((std_control**2 + std_test**2) / 2) ** 0.5\n",
    "    return effect_size\n",
    "    \n",
    "def calc_sample_size_continuous(effect_size: float,\n",
    "                     alpha: float = .05,\n",
    "                     beta: float = .2,\n",
    "                     ratio: Union[float, int] = 1):\n",
    "    \n",
    "    n = tt_ind_solve_power(effect_size=effect_size,\n",
    "                           alpha=alpha,\n",
    "                           power=(1 - beta),\n",
    "                           ratio=ratio,\n",
    "                  )\n",
    "    return int(n * 2)\n",
    "\n",
    "def calc_sample_size_proportion(effect_size: float,\n",
    "                     alpha: float = .05,\n",
    "                     beta: float = .2,\n",
    "                     ratio: Union[float, int] = 1):\n",
    "    \n",
    "    n = zt_ind_solve_power(effect_size=effect_size,\n",
    "                           alpha=alpha,\n",
    "                           power=(1 - beta),\n",
    "                           ratio=ratio,\n",
    "                  )\n",
    "    return int(n * 2)"
   ]
  },
  {
   "cell_type": "code",
   "execution_count": 3,
   "id": "f179852b",
   "metadata": {},
   "outputs": [
    {
     "data": {
      "text/plain": [
       "(0.014870865944557932, 0.014871423685692022)"
      ]
     },
     "execution_count": 3,
     "metadata": {},
     "output_type": "execute_result"
    }
   ],
   "source": [
    "ts_control, ts_test = 25, 27.5\n",
    "std_control, std_test = 156, 156 * 1.15\n",
    "\n",
    "es_cont = calc_continuous_es(ts_control, std_control, ts_test, std_test)\n",
    "es_cont_alt = calc_continuous_es_alt(ts_control, std_control, ts_test, std_test)\n",
    "es_cont, es_cont_alt"
   ]
  },
  {
   "cell_type": "code",
   "execution_count": 4,
   "id": "120b4976",
   "metadata": {},
   "outputs": [
    {
     "data": {
      "text/plain": [
       "(141971, 141960)"
      ]
     },
     "execution_count": 4,
     "metadata": {},
     "output_type": "execute_result"
    }
   ],
   "source": [
    "calc_sample_size_continuous(es_cont), calc_sample_size_continuous(es_cont_alt)"
   ]
  },
  {
   "cell_type": "code",
   "execution_count": 5,
   "id": "f745000f",
   "metadata": {},
   "outputs": [],
   "source": [
    "DAU = 20000"
   ]
  },
  {
   "cell_type": "code",
   "execution_count": 6,
   "id": "6dff87a7",
   "metadata": {},
   "outputs": [
    {
     "data": {
      "text/plain": [
       "7.09855"
      ]
     },
     "execution_count": 6,
     "metadata": {},
     "output_type": "execute_result"
    }
   ],
   "source": [
    "res = 141971 / DAU\n",
    "res"
   ]
  },
  {
   "cell_type": "markdown",
   "id": "e2abfd1f",
   "metadata": {},
   "source": [
    "Ответ: длительность теста должна быть 7 дней"
   ]
  },
  {
   "cell_type": "markdown",
   "id": "0c06a9b1",
   "metadata": {},
   "source": [
    "### Задача 2 \n",
    "Наша продуктовая команда в ecommerce магазине планирует запустить тест, направленный на ускорение загрузки сайта. Одна из основных метрик bounce rate в GA = 40%. Мы предполагаем, что при оптимизации сайта она изменится минимум на 20%.Средний трафик 4000 человек в день. Посчитайте сколько нам нужно дней держать эксперимент при alpha = 5% и beta = 20%\n",
    "\n",
    "Отказы показатель качественный, т к проценты"
   ]
  },
  {
   "cell_type": "code",
   "execution_count": 7,
   "id": "18d58726",
   "metadata": {},
   "outputs": [
    {
     "data": {
      "text/plain": [
       "0.16690997264630925"
      ]
     },
     "execution_count": 7,
     "metadata": {},
     "output_type": "execute_result"
    }
   ],
   "source": [
    "BR_1, BR_2 = 0.40, 0.32\n",
    "\n",
    "es_prop = calc_proportion_es(BR_1, BR_2)\n",
    "es_prop\n",
    "     "
   ]
  },
  {
   "cell_type": "code",
   "execution_count": 8,
   "id": "a361a5d4",
   "metadata": {},
   "outputs": [
    {
     "data": {
      "text/plain": [
       "1126"
      ]
     },
     "execution_count": 8,
     "metadata": {},
     "output_type": "execute_result"
    }
   ],
   "source": [
    "calc_sample_size_proportion(es_prop)"
   ]
  },
  {
   "cell_type": "code",
   "execution_count": 9,
   "id": "8c7b37a3",
   "metadata": {},
   "outputs": [
    {
     "data": {
      "text/plain": [
       "0.2815"
      ]
     },
     "execution_count": 9,
     "metadata": {},
     "output_type": "execute_result"
    }
   ],
   "source": [
    "DAU = 4000\n",
    "res = 1126 / DAU\n",
    "res"
   ]
  },
  {
   "cell_type": "markdown",
   "id": "d55c9d71",
   "metadata": {},
   "source": [
    "Ответ: длительность теста должна быть 0.28 дня"
   ]
  },
  {
   "cell_type": "code",
   "execution_count": null,
   "id": "15781baa",
   "metadata": {},
   "outputs": [],
   "source": []
  }
 ],
 "metadata": {
  "kernelspec": {
   "display_name": "Python 3 (ipykernel)",
   "language": "python",
   "name": "python3"
  },
  "language_info": {
   "codemirror_mode": {
    "name": "ipython",
    "version": 3
   },
   "file_extension": ".py",
   "mimetype": "text/x-python",
   "name": "python",
   "nbconvert_exporter": "python",
   "pygments_lexer": "ipython3",
   "version": "3.9.13"
  }
 },
 "nbformat": 4,
 "nbformat_minor": 5
}
